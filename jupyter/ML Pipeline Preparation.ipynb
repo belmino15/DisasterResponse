{
 "cells": [
  {
   "cell_type": "markdown",
   "source": [
    "# ML Pipeline Preparation\n",
    "Follow the instructions below to help you create your ML pipeline.\n",
    "### 1. Import libraries and load data from database.\n",
    "- Import Python libraries\n",
    "- Load dataset from database with [`read_sql_table`](https://pandas.pydata.org/pandas-docs/stable/generated/pandas.read_sql_table.html)\n",
    "- Define feature and target variables X and Y"
   ],
   "metadata": {}
  },
  {
   "cell_type": "code",
   "execution_count": 14,
   "source": [
    "# import libraries\r\n",
    "import pandas as pd\r\n",
    "from sqlalchemy import create_engine\r\n",
    "\r\n",
    "import nltk\r\n",
    "nltk.download(['punkt', 'wordnet'])\r\n",
    "from nltk.tokenize import word_tokenize\r\n",
    "from nltk.stem import WordNetLemmatizer\r\n",
    "\r\n",
    "from sklearn.pipeline import Pipeline\r\n",
    "from sklearn.feature_extraction.text import CountVectorizer, TfidfTransformer\r\n",
    "from sklearn.multioutput import MultiOutputClassifier\r\n",
    "from sklearn.ensemble import RandomForestClassifier\r\n",
    "from sklearn.model_selection import train_test_split\r\n",
    "\r\n",
    "from sklearn.model_selection import GridSearchCV\r\n",
    "from sklearn.metrics import classification_report\r\n",
    "\r\n",
    "import pickle\r\n"
   ],
   "outputs": [
    {
     "output_type": "stream",
     "name": "stderr",
     "text": [
      "[nltk_data] Downloading package punkt to\n",
      "[nltk_data]     C:\\Users\\lucas\\AppData\\Roaming\\nltk_data...\n",
      "[nltk_data]   Package punkt is already up-to-date!\n",
      "[nltk_data] Downloading package wordnet to\n",
      "[nltk_data]     C:\\Users\\lucas\\AppData\\Roaming\\nltk_data...\n",
      "[nltk_data]   Package wordnet is already up-to-date!\n"
     ]
    }
   ],
   "metadata": {}
  },
  {
   "cell_type": "code",
   "execution_count": 2,
   "source": [
    "# load data from database\r\n",
    "path = r'D:\\Documentos\\DataScience_Udacity\\4. Data Engineering\\5. Final Project\\Projeto\\data\\DisasterResponseData.db'\r\n",
    "\r\n",
    "engine = create_engine('sqlite:///' + path)\r\n",
    "df = pd.read_sql_table(table_name= 'T_DisasterResponse', con= engine)\r\n",
    "\r\n",
    "X = df['message']\r\n",
    "Y = df.drop(columns= ['original', 'id', 'message', 'genre'])"
   ],
   "outputs": [],
   "metadata": {}
  },
  {
   "cell_type": "markdown",
   "source": [
    "### 2. Write a tokenization function to process your text data"
   ],
   "metadata": {}
  },
  {
   "cell_type": "code",
   "execution_count": 3,
   "source": [
    "def tokenize(text):\r\n",
    "    tokens = word_tokenize(text)\r\n",
    "    lemmatizer = WordNetLemmatizer()\r\n",
    "\r\n",
    "    clean_tokens = []\r\n",
    "    for tok in tokens:\r\n",
    "        clean_tok = lemmatizer.lemmatize(tok).lower().strip()\r\n",
    "        clean_tokens.append(clean_tok)\r\n",
    "\r\n",
    "    return clean_tokens"
   ],
   "outputs": [],
   "metadata": {}
  },
  {
   "cell_type": "markdown",
   "source": [
    "### 3. Build a machine learning pipeline\n",
    "This machine pipeline should take in the `message` column as input and output classification results on the other 36 categories in the dataset. You may find the [MultiOutputClassifier](http://scikit-learn.org/stable/modules/generated/sklearn.multioutput.MultiOutputClassifier.html) helpful for predicting multiple target variables."
   ],
   "metadata": {}
  },
  {
   "cell_type": "code",
   "execution_count": 4,
   "source": [
    "pipeline = Pipeline([\r\n",
    "        ('vect', CountVectorizer(tokenizer=tokenize)),\r\n",
    "        ('tfidf', TfidfTransformer()),\r\n",
    "        ('clf', MultiOutputClassifier(RandomForestClassifier()))\r\n",
    "    ])"
   ],
   "outputs": [],
   "metadata": {}
  },
  {
   "cell_type": "markdown",
   "source": [
    "### 4. Train pipeline\n",
    "- Split data into train and test sets\n",
    "- Train pipeline"
   ],
   "metadata": {}
  },
  {
   "cell_type": "code",
   "execution_count": 5,
   "source": [
    "X_train, X_test, y_train, y_test = train_test_split(\r\n",
    "...     X, Y, test_size=0.33, random_state=42)\r\n",
    "\r\n",
    "pipeline.fit(X_train, y_train)"
   ],
   "outputs": [
    {
     "output_type": "execute_result",
     "data": {
      "text/plain": [
       "Pipeline(steps=[('vect',\n",
       "                 CountVectorizer(tokenizer=<function tokenize at 0x000002456622B940>)),\n",
       "                ('tfidf', TfidfTransformer()),\n",
       "                ('clf',\n",
       "                 MultiOutputClassifier(estimator=RandomForestClassifier()))])"
      ]
     },
     "metadata": {},
     "execution_count": 5
    }
   ],
   "metadata": {}
  },
  {
   "cell_type": "markdown",
   "source": [
    "### 5. Test your model\n",
    "Report the f1 score, precision and recall for each output category of the dataset. You can do this by iterating through the columns and calling sklearn's `classification_report` on each."
   ],
   "metadata": {}
  },
  {
   "cell_type": "code",
   "execution_count": 6,
   "source": [
    "y_pred = pipeline.predict(X_test)\r\n",
    "\r\n",
    "print(classification_report(y_test.values, y_pred, target_names= Y.columns, zero_division= False))"
   ],
   "outputs": [
    {
     "output_type": "stream",
     "name": "stdout",
     "text": [
      "                        precision    recall  f1-score   support\n",
      "\n",
      "               related       0.81      0.97      0.89      6566\n",
      "               request       0.88      0.44      0.59      1466\n",
      "                 offer       0.00      0.00      0.00        46\n",
      "           aid_related       0.79      0.61      0.69      3541\n",
      "          medical_help       0.67      0.06      0.11       662\n",
      "      medical_products       0.81      0.06      0.11       426\n",
      "     search_and_rescue       0.70      0.06      0.11       235\n",
      "              security       1.00      0.01      0.01       159\n",
      "              military       0.82      0.03      0.06       287\n",
      "           child_alone       0.00      0.00      0.00         0\n",
      "                 water       0.92      0.26      0.40       551\n",
      "                  food       0.87      0.43      0.58       962\n",
      "               shelter       0.90      0.20      0.32       731\n",
      "              clothing       0.83      0.04      0.08       123\n",
      "                 money       0.75      0.03      0.06       198\n",
      "        missing_people       1.00      0.03      0.06       105\n",
      "              refugees       0.50      0.01      0.02       287\n",
      "                 death       0.80      0.09      0.17       384\n",
      "             other_aid       0.80      0.01      0.03      1118\n",
      "infrastructure_related       0.50      0.00      0.00       557\n",
      "             transport       0.74      0.06      0.12       388\n",
      "             buildings       0.87      0.06      0.10       468\n",
      "           electricity       1.00      0.03      0.05       199\n",
      "                 tools       0.00      0.00      0.00        54\n",
      "             hospitals       1.00      0.01      0.02        84\n",
      "                 shops       0.00      0.00      0.00        40\n",
      "           aid_centers       0.00      0.00      0.00       115\n",
      "  other_infrastructure       0.50      0.00      0.01       381\n",
      "       weather_related       0.87      0.62      0.73      2385\n",
      "                floods       0.90      0.36      0.51       706\n",
      "                 storm       0.81      0.42      0.55       786\n",
      "                  fire       1.00      0.01      0.02       107\n",
      "            earthquake       0.91      0.76      0.83       833\n",
      "                  cold       1.00      0.04      0.07       171\n",
      "         other_weather       0.64      0.02      0.03       440\n",
      "         direct_report       0.85      0.37      0.52      1687\n",
      "\n",
      "             micro avg       0.83      0.49      0.62     27248\n",
      "             macro avg       0.71      0.17      0.22     27248\n",
      "          weighted avg       0.81      0.49      0.54     27248\n",
      "           samples avg       0.70      0.47      0.51     27248\n",
      "\n"
     ]
    }
   ],
   "metadata": {}
  },
  {
   "cell_type": "markdown",
   "source": [
    "### 6. Improve your model\n",
    "Use grid search to find better parameters. "
   ],
   "metadata": {}
  },
  {
   "cell_type": "code",
   "execution_count": 7,
   "source": [
    "pipeline.get_params().keys()"
   ],
   "outputs": [
    {
     "output_type": "execute_result",
     "data": {
      "text/plain": [
       "dict_keys(['memory', 'steps', 'verbose', 'vect', 'tfidf', 'clf', 'vect__analyzer', 'vect__binary', 'vect__decode_error', 'vect__dtype', 'vect__encoding', 'vect__input', 'vect__lowercase', 'vect__max_df', 'vect__max_features', 'vect__min_df', 'vect__ngram_range', 'vect__preprocessor', 'vect__stop_words', 'vect__strip_accents', 'vect__token_pattern', 'vect__tokenizer', 'vect__vocabulary', 'tfidf__norm', 'tfidf__smooth_idf', 'tfidf__sublinear_tf', 'tfidf__use_idf', 'clf__estimator__bootstrap', 'clf__estimator__ccp_alpha', 'clf__estimator__class_weight', 'clf__estimator__criterion', 'clf__estimator__max_depth', 'clf__estimator__max_features', 'clf__estimator__max_leaf_nodes', 'clf__estimator__max_samples', 'clf__estimator__min_impurity_decrease', 'clf__estimator__min_impurity_split', 'clf__estimator__min_samples_leaf', 'clf__estimator__min_samples_split', 'clf__estimator__min_weight_fraction_leaf', 'clf__estimator__n_estimators', 'clf__estimator__n_jobs', 'clf__estimator__oob_score', 'clf__estimator__random_state', 'clf__estimator__verbose', 'clf__estimator__warm_start', 'clf__estimator', 'clf__n_jobs'])"
      ]
     },
     "metadata": {},
     "execution_count": 7
    }
   ],
   "metadata": {}
  },
  {
   "cell_type": "code",
   "execution_count": 8,
   "source": [
    "parameters = {\r\n",
    "    'clf__estimator__n_estimators': [50, 100],\r\n",
    "    'clf__estimator__min_samples_leaf': [5, 10]\r\n",
    "    }\r\n",
    "\r\n",
    "cv = GridSearchCV(pipeline, param_grid=parameters, n_jobs=-1, verbose= 2)"
   ],
   "outputs": [],
   "metadata": {}
  },
  {
   "cell_type": "markdown",
   "source": [
    "### 7. Test your model\n",
    "Show the accuracy, precision, and recall of the tuned model.  \n",
    "\n",
    "Since this project focuses on code quality, process, and  pipelines, there is no minimum performance metric needed to pass. However, make sure to fine tune your models for accuracy, precision and recall to make your project stand out - especially for your portfolio!"
   ],
   "metadata": {}
  },
  {
   "cell_type": "code",
   "execution_count": 9,
   "source": [
    "cv.fit(X_train, y_train)"
   ],
   "outputs": [
    {
     "output_type": "stream",
     "name": "stdout",
     "text": [
      "Fitting 5 folds for each of 4 candidates, totalling 20 fits\n"
     ]
    },
    {
     "output_type": "stream",
     "name": "stderr",
     "text": [
      "[Parallel(n_jobs=-1)]: Using backend LokyBackend with 12 concurrent workers.\n",
      "[Parallel(n_jobs=-1)]: Done   8 out of  20 | elapsed:  2.8min remaining:  4.2min\n",
      "[Parallel(n_jobs=-1)]: Done  20 out of  20 | elapsed:  4.2min finished\n"
     ]
    },
    {
     "output_type": "execute_result",
     "data": {
      "text/plain": [
       "GridSearchCV(estimator=Pipeline(steps=[('vect',\n",
       "                                        CountVectorizer(tokenizer=<function tokenize at 0x000002456622B940>)),\n",
       "                                       ('tfidf', TfidfTransformer()),\n",
       "                                       ('clf',\n",
       "                                        MultiOutputClassifier(estimator=RandomForestClassifier()))]),\n",
       "             n_jobs=-1,\n",
       "             param_grid={'clf__estimator__min_samples_leaf': [5, 10],\n",
       "                         'clf__estimator__n_estimators': [50, 100]},\n",
       "             verbose=2)"
      ]
     },
     "metadata": {},
     "execution_count": 9
    }
   ],
   "metadata": {}
  },
  {
   "cell_type": "code",
   "execution_count": 10,
   "source": [
    "best_model = cv.best_params_\r\n",
    "best_model"
   ],
   "outputs": [
    {
     "output_type": "execute_result",
     "data": {
      "text/plain": [
       "{'clf__estimator__min_samples_leaf': 5, 'clf__estimator__n_estimators': 50}"
      ]
     },
     "metadata": {},
     "execution_count": 10
    }
   ],
   "metadata": {}
  },
  {
   "cell_type": "code",
   "execution_count": 11,
   "source": [
    "y_pred_improved = cv.predict(X_test)"
   ],
   "outputs": [],
   "metadata": {}
  },
  {
   "cell_type": "code",
   "execution_count": 28,
   "source": [
    "print(classification_report(y_test.values, y_pred_improved, target_names= Y.columns, zero_division= False))"
   ],
   "outputs": [
    {
     "output_type": "stream",
     "name": "stdout",
     "text": [
      "                        precision    recall  f1-score   support\n",
      "\n",
      "               related       0.78      0.99      0.87      6566\n",
      "               request       0.94      0.14      0.25      1466\n",
      "                 offer       0.00      0.00      0.00        46\n",
      "           aid_related       0.78      0.59      0.67      3541\n",
      "          medical_help       0.60      0.00      0.01       662\n",
      "      medical_products       1.00      0.00      0.01       426\n",
      "     search_and_rescue       0.00      0.00      0.00       235\n",
      "              security       0.00      0.00      0.00       159\n",
      "              military       0.00      0.00      0.00       287\n",
      "           child_alone       0.00      0.00      0.00         0\n",
      "                 water       0.00      0.00      0.00       551\n",
      "                  food       0.81      0.02      0.03       962\n",
      "               shelter       0.88      0.01      0.02       731\n",
      "              clothing       0.00      0.00      0.00       123\n",
      "                 money       0.00      0.00      0.00       198\n",
      "        missing_people       0.00      0.00      0.00       105\n",
      "              refugees       0.00      0.00      0.00       287\n",
      "                 death       0.00      0.00      0.00       384\n",
      "             other_aid       0.00      0.00      0.00      1118\n",
      "infrastructure_related       0.00      0.00      0.00       557\n",
      "             transport       0.00      0.00      0.00       388\n",
      "             buildings       0.00      0.00      0.00       468\n",
      "           electricity       0.00      0.00      0.00       199\n",
      "                 tools       0.00      0.00      0.00        54\n",
      "             hospitals       0.00      0.00      0.00        84\n",
      "                 shops       0.00      0.00      0.00        40\n",
      "           aid_centers       0.00      0.00      0.00       115\n",
      "  other_infrastructure       0.00      0.00      0.00       381\n",
      "       weather_related       0.87      0.51      0.64      2385\n",
      "                floods       0.79      0.02      0.03       706\n",
      "                 storm       0.93      0.05      0.09       786\n",
      "                  fire       0.00      0.00      0.00       107\n",
      "            earthquake       0.93      0.23      0.37       833\n",
      "                  cold       0.00      0.00      0.00       171\n",
      "         other_weather       0.00      0.00      0.00       440\n",
      "         direct_report       0.94      0.10      0.17      1687\n",
      "\n",
      "             micro avg       0.80      0.38      0.52     27248\n",
      "             macro avg       0.28      0.07      0.09     27248\n",
      "          weighted avg       0.63      0.38      0.40     27248\n",
      "           samples avg       0.73      0.41      0.48     27248\n",
      "\n"
     ]
    }
   ],
   "metadata": {}
  },
  {
   "cell_type": "markdown",
   "source": [
    "### 8. Try improving your model further. Here are a few ideas:\n",
    "* try other machine learning algorithms\n",
    "* add other features besides the TF-IDF"
   ],
   "metadata": {}
  },
  {
   "cell_type": "code",
   "execution_count": null,
   "source": [],
   "outputs": [],
   "metadata": {}
  },
  {
   "cell_type": "markdown",
   "source": [
    "### 9. Export your model as a pickle file"
   ],
   "metadata": {}
  },
  {
   "cell_type": "code",
   "execution_count": 25,
   "source": [
    "sys.path"
   ],
   "outputs": [
    {
     "output_type": "execute_result",
     "data": {
      "text/plain": [
       "['d:\\\\Documentos\\\\DataScience_Udacity\\\\4. Data Engineering\\\\5. Final Project\\\\Projeto\\\\jupyter',\n",
       " 'c:\\\\Users\\\\lucas\\\\.vscode\\\\extensions\\\\ms-toolsai.jupyter-2021.8.1054968649\\\\pythonFiles',\n",
       " 'c:\\\\Users\\\\lucas\\\\.vscode\\\\extensions\\\\ms-toolsai.jupyter-2021.8.1054968649\\\\pythonFiles\\\\lib\\\\python',\n",
       " 'D:\\\\Programas\\\\Anaconda3\\\\python38.zip',\n",
       " 'D:\\\\Programas\\\\Anaconda3\\\\DLLs',\n",
       " 'D:\\\\Programas\\\\Anaconda3\\\\lib',\n",
       " 'D:\\\\Programas\\\\Anaconda3',\n",
       " '',\n",
       " 'D:\\\\Programas\\\\Anaconda3\\\\lib\\\\site-packages',\n",
       " 'D:\\\\Programas\\\\Anaconda3\\\\lib\\\\site-packages\\\\win32',\n",
       " 'D:\\\\Programas\\\\Anaconda3\\\\lib\\\\site-packages\\\\win32\\\\lib',\n",
       " 'D:\\\\Programas\\\\Anaconda3\\\\lib\\\\site-packages\\\\Pythonwin',\n",
       " 'D:\\\\Programas\\\\Anaconda3\\\\lib\\\\site-packages\\\\IPython\\\\extensions',\n",
       " 'C:\\\\Users\\\\lucas\\\\.ipython']"
      ]
     },
     "metadata": {},
     "execution_count": 25
    }
   ],
   "metadata": {}
  },
  {
   "cell_type": "code",
   "execution_count": 27,
   "source": [
    "model_file = r'D:\\Documentos\\DataScience_Udacity\\4. Data Engineering\\5. Final Project\\Projeto\\model\\model.pkl'\r\n",
    "\r\n",
    "with open(model_file, 'wb') as model_file:\r\n",
    "  pickle.dump(pipeline, model_file)"
   ],
   "outputs": [],
   "metadata": {}
  },
  {
   "cell_type": "markdown",
   "source": [
    "### 10. Use this notebook to complete `train.py`\n",
    "Use the template file attached in the Resources folder to write a script that runs the steps above to create a database and export a model based on a new dataset specified by the user."
   ],
   "metadata": {}
  },
  {
   "cell_type": "code",
   "execution_count": null,
   "source": [],
   "outputs": [],
   "metadata": {}
  }
 ],
 "metadata": {
  "kernelspec": {
   "name": "python3",
   "display_name": "Python 3.8.3 64-bit ('base': conda)"
  },
  "language_info": {
   "codemirror_mode": {
    "name": "ipython",
    "version": 3
   },
   "file_extension": ".py",
   "mimetype": "text/x-python",
   "name": "python",
   "nbconvert_exporter": "python",
   "pygments_lexer": "ipython3",
   "version": "3.8.3"
  },
  "interpreter": {
   "hash": "50e0f96e4e88615678713ad57c0ae08da4a9d6120170cb89b48692eb7d0116f7"
  }
 },
 "nbformat": 4,
 "nbformat_minor": 2
}